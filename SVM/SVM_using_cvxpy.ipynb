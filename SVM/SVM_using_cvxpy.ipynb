{
 "cells": [
  {
   "cell_type": "code",
   "execution_count": 1,
   "metadata": {
    "id": "qVHQioJgCs9q"
   },
   "outputs": [],
   "source": [
    "#!pip install numpy\n",
    "#!pip install matplotlib\n",
    "#!pip install cvxpy\n",
    "import numpy as np\n",
    "import cvxpy as cp\n",
    "import matplotlib.pyplot as plt\n",
    "import math\n",
    "from sklearn.metrics import confusion_matrix"
   ]
  },
  {
   "cell_type": "code",
   "execution_count": 2,
   "metadata": {
    "id": "cjYprWeotewh"
   },
   "outputs": [],
   "source": [
    "# Feel free to use this helper function to visualize 2D points X with labels +1 or -1\n",
    "def plot_points(X, Y):\n",
    "    reds = []\n",
    "    blues = []\n",
    "    for i in range(Y.shape[0]):\n",
    "        if Y[i] == 1:\n",
    "            reds.append(X[i])\n",
    "        else:\n",
    "            blues.append(X[i])\n",
    "    reds = np.array(reds)\n",
    "    blues = np.array(blues)\n",
    "    plt.scatter(reds[:, 0], reds[:, 1], c = 'r')\n",
    "    plt.scatter(blues[:, 0], blues[:, 1], c = 'b')"
   ]
  },
  {
   "cell_type": "code",
   "execution_count": 3,
   "metadata": {
    "colab": {
     "base_uri": "https://localhost:8080/",
     "height": 265
    },
    "id": "IBwBHG1Ktihz",
    "outputId": "dbdc97d3-0684-4ca1-848d-46e38e2cdff0"
   },
   "outputs": [
    {
     "data": {
      "image/png": "[encoded data removed]",
      "text/plain": [
       "<Figure size 432x288 with 1 Axes>"
      ]
     },
     "metadata": {
      "needs_background": "light",
      "tags": []
     },
     "output_type": "display_data"
    }
   ],
   "source": [
    "# Create Synthetic Data and visualize the points\n",
    "X = np.array([[-3.5, -1], [-3, 0], [-3, 1], [-2.7, -1.3], [-2, -1], [-2, -2.7], \n",
    "              [-1, -2.5], [0, -3], [-1.1, 0], [0, 2.5], [1, 2], [0.7, 4], \n",
    "              [2.1, 0.2], [2.3, 1], [2.8, 1.8], [2.2, 2.8]])\n",
    "y = np.array([1, 1, 1, 1, 1, 1, 1, 1, -1, -1, -1, -1, -1, -1, -1, -1])\n",
    "\n",
    "plot_points(X, y)\n",
    "plt.show()"
   ]
  },
  {
   "cell_type": "code",
   "execution_count": 4,
   "metadata": {
    "id": "mISCOe0bYbDB"
   },
   "outputs": [],
   "source": [
    "w = cp.Variable(X.shape[1])\n",
    "b = cp.Variable()"
   ]
  },
  {
   "cell_type": "code",
   "execution_count": 5,
   "metadata": {
    "id": "YV4OvhgkaQRM"
   },
   "outputs": [],
   "source": [
    "firstTerm = 0.5*cp.square(cp.norm(w))"
   ]
  },
  {
   "cell_type": "code",
   "execution_count": 6,
   "metadata": {
    "id": "2DElTJgYk1ET"
   },
   "outputs": [],
   "source": [
    "constraints = [(y[i]*(np.sum(w.T * X[i]) + b) -1) >= 0 for i in range(X.shape[0])]"
   ]
  },
  {
   "cell_type": "code",
   "execution_count": 7,
   "metadata": {
    "id": "wZ-muztqiJC-"
   },
   "outputs": [],
   "source": [
    "obj = cp.Minimize(firstTerm)"
   ]
  },
  {
   "cell_type": "code",
   "execution_count": 8,
   "metadata": {
    "id": "_7NSqwQIm3Fp"
   },
   "outputs": [],
   "source": [
    "prob = cp.Problem(obj,constraints)"
   ]
  },
  {
   "cell_type": "code",
   "execution_count": 9,
   "metadata": {
    "colab": {
     "base_uri": "https://localhost:8080/"
    },
    "id": "cYjt-Q2Gm9PQ",
    "outputId": "a0972577-5c69-4490-a874-7664322e44c1"
   },
   "outputs": [
    {
     "data": {
      "text/plain": [
       "2.3629489535380936"
      ]
     },
     "execution_count": 9,
     "metadata": {
      "tags": []
     },
     "output_type": "execute_result"
    }
   ],
   "source": [
    "prob.solve()"
   ]
  },
  {
   "cell_type": "code",
   "execution_count": 10,
   "metadata": {
    "colab": {
     "base_uri": "https://localhost:8080/"
    },
    "id": "V-90Es3UU_FK",
    "outputId": "f6c2f08b-7e8a-4772-f038-1198b7093416"
   },
   "outputs": [
    {
     "name": "stdout",
     "output_type": "stream",
     "text": [
      "<class 'numpy.ndarray'>\n",
      "[-1.73913043 -1.30434783]\n"
     ]
    }
   ],
   "source": [
    "weights = w.value\n",
    "print(type(weights))\n",
    "print(weights)"
   ]
  },
  {
   "cell_type": "code",
   "execution_count": 11,
   "metadata": {
    "colab": {
     "base_uri": "https://localhost:8080/"
    },
    "id": "tAKAEhKaVIQs",
    "outputId": "930bfbcc-e8fe-4e7f-fd3f-4531fc6a3f22"
   },
   "outputs": [
    {
     "name": "stdout",
     "output_type": "stream",
     "text": [
      "-2.9130434780347696\n"
     ]
    }
   ],
   "source": [
    "b = b.value\n",
    "print(b)"
   ]
  },
  {
   "cell_type": "code",
   "execution_count": 12,
   "metadata": {
    "id": "iq4_EcefqzRK"
   },
   "outputs": [],
   "source": [
    "def plot_points_line(X, Y, w,b):\n",
    "    reds = []\n",
    "    blues = []\n",
    "    for i in range(Y.shape[0]):\n",
    "        if Y[i] == 1:\n",
    "            reds.append(X[i])\n",
    "        else:\n",
    "            blues.append(X[i])\n",
    "    reds = np.array(reds)\n",
    "    blues = np.array(blues)\n",
    "    plt.scatter(reds[:, 0], reds[:, 1], c = 'r')\n",
    "    plt.scatter(blues[:, 0], blues[:, 1], c = 'b')\n",
    "    #plot line here\n",
    "    x_ticks = np.linspace(-3.5,3,100)\n",
    "    y_ticks_solid = np.array([(-b-w[0]*x)/w[1] for x in x_ticks])\n",
    "    y_ticks_solid_dashed_below = np.array([(1-b-w[0]*x)/w[1] for x in x_ticks])\n",
    "    y_ticks_solid_dashed_above = np.array([(-1-b-w[0]*x)/w[1] for x in x_ticks])\n",
    "    plt.plot(x_ticks,y_ticks_solid)\n",
    "    plt.plot(x_ticks,y_ticks_solid_dashed_above,linestyle='dashed')\n",
    "    plt.plot(x_ticks,y_ticks_solid_dashed_below,linestyle='dashed')"
   ]
  },
  {
   "cell_type": "code",
   "execution_count": 13,
   "metadata": {
    "colab": {
     "base_uri": "https://localhost:8080/",
     "height": 265
    },
    "id": "n7tmWxrAX2jy",
    "outputId": "7b184724-e076-4be1-ad17-6e0a2c56b6df"
   },
   "outputs": [
    {
     "data": {
      "image/png": "[encoded data removed]",
      "text/plain": [
       "<Figure size 432x288 with 1 Axes>"
      ]
     },
     "metadata": {
      "needs_background": "light",
      "tags": []
     },
     "output_type": "display_data"
    }
   ],
   "source": [
    "plot_points_line(X,y,weights,b)"
   ]
  },
  {
   "cell_type": "markdown",
   "metadata": {
    "id": "x-tKgb8-kXxE"
   },
   "source": [
    "In the next cell please plot only the support vectors along with the boundary, w vector, and margins."
   ]
  },
  {
   "cell_type": "code",
   "execution_count": 26,
   "metadata": {
    "id": "_XeDTiO9kcYZ"
   },
   "outputs": [],
   "source": [
    "#need to get only support vectors\n",
    "supportVec = []\n",
    "supportVecLabels = []\n",
    "for i in range(X.shape[0]):\n",
    "  #print(weights.T)\n",
    "  #print(X[i])\n",
    "  #print(np.sum(weights.T * X[i]))\n",
    "  #print(abs(np.sum(weights.T * X[i]) + b))\n",
    "  if math.isclose(abs(np.sum(weights.T * X[i]) + b),1):\n",
    "    supportVec.append(X[i])\n",
    "    supportVecLabels.append(y[i])\n",
    "supportVec = np.array(supportVec)\n",
    "supportVecLabels = np.array(supportVecLabels)"
   ]
  },
  {
   "cell_type": "code",
   "execution_count": 27,
   "metadata": {
    "colab": {
     "base_uri": "https://localhost:8080/",
     "height": 265
    },
    "id": "-kRxaxt9ke4u",
    "outputId": "f73e1399-b7c1-495a-909e-cd726002d2d9"
   },
   "outputs": [
    {
     "data": {
      "image/png": "[encoded data removed]",
      "text/plain": [
       "<Figure size 432x288 with 1 Axes>"
      ]
     },
     "metadata": {
      "needs_background": "light",
      "tags": []
     },
     "output_type": "display_data"
    }
   ],
   "source": [
    "plot_points_line(supportVec,supportVecLabels,weights,b)"
   ]
  },
  {
   "cell_type": "markdown",
   "metadata": {
    "id": "N66aOaCUkjLd"
   },
   "source": [
    "In the next cell add the following points:\n",
    "\n",
    "(-4, -10) with label 1\n",
    "(4, 4) with label -1\n",
    "Is the decision boundary changed after adding the points? Explain your observations theoretically."
   ]
  },
  {
   "cell_type": "code",
   "execution_count": 28,
   "metadata": {
    "colab": {
     "base_uri": "https://localhost:8080/",
     "height": 265
    },
    "id": "nC8E781Xkmzp",
    "outputId": "96c1244e-0be0-4cf8-85a0-18b7c94b849f"
   },
   "outputs": [
    {
     "data": {
      "image/png": "[encoded data removed]",
      "text/plain": [
       "<Figure size 432x288 with 1 Axes>"
      ]
     },
     "metadata": {
      "needs_background": "light",
      "tags": []
     },
     "output_type": "display_data"
    }
   ],
   "source": [
    "X_new = np.append(X,[[-4,-10],[4,4]],axis=0)\n",
    "y_new = np.append(y,[1,-1])\n",
    "plot_points(X_new, y_new)\n",
    "plt.show()"
   ]
  },
  {
   "cell_type": "markdown",
   "metadata": {
    "id": "nGiFjqSakrW8"
   },
   "source": [
    "Solve for the decision boundary using this modified dataset"
   ]
  },
  {
   "cell_type": "code",
   "execution_count": 29,
   "metadata": {
    "colab": {
     "base_uri": "https://localhost:8080/"
    },
    "id": "snqTqi3hks8T",
    "outputId": "2f8b3b6b-cdf3-468d-a43d-d9b15f037f9f"
   },
   "outputs": [
    {
     "data": {
      "text/plain": [
       "2.3629489543388367"
      ]
     },
     "execution_count": 29,
     "metadata": {
      "tags": []
     },
     "output_type": "execute_result"
    }
   ],
   "source": [
    "w_new = cp.Variable(X_new.shape[1])\n",
    "b_new = cp.Variable()\n",
    "firstTerm_new = 0.5*cp.square(cp.norm(w_new))\n",
    "constraints_new = [(y_new[i]*(np.sum(w_new.T * X_new[i]) + b_new) -1) >= 0 for i in range(X_new.shape[0])]\n",
    "obj_new = cp.Minimize(firstTerm_new)\n",
    "prob_new = cp.Problem(obj_new,constraints_new)\n",
    "prob_new.solve()"
   ]
  },
  {
   "cell_type": "code",
   "execution_count": 30,
   "metadata": {
    "colab": {
     "base_uri": "https://localhost:8080/",
     "height": 265
    },
    "id": "rAAjfxtbjXCz",
    "outputId": "76e71ae7-00ae-4ba1-c5b8-0125e867a6a0"
   },
   "outputs": [
    {
     "data": {
      "image/png": "[encoded data removed]",
      "text/plain": [
       "<Figure size 432x288 with 1 Axes>"
      ]
     },
     "metadata": {
      "needs_background": "light",
      "tags": []
     },
     "output_type": "display_data"
    }
   ],
   "source": [
    "weights_new = w_new.value\n",
    "b_new = b_new.value\n",
    "plot_points_line(X_new,y_new,weights_new,b_new)"
   ]
  },
  {
   "cell_type": "markdown",
   "metadata": {
    "id": "f6jmyOnYk7qX"
   },
   "source": [
    "# As we can see from above plot the boundary line has not changed with addition of new point"
   ]
  },
  {
   "cell_type": "markdown",
   "metadata": {
    "id": "8ZUgy-2sk9s0"
   },
   "source": [
    "In the next cell you are required to modify your framing of optimisation problem to incorporate soft constraints also known as slack. Plot the decision boundary, w and margin lines for various values of C:  0.01 ,  0.1 ,  3 ,  10 ,  100 .\n",
    "\n",
    "Explain your results theoretically. How does the boundary change with varying values of C? Why?\n",
    "\n",
    "Note: Use the modified X and y i.e after adding points in previous cell"
   ]
  },
  {
   "cell_type": "code",
   "execution_count": 57,
   "metadata": {
    "colab": {
     "base_uri": "https://localhost:8080/",
     "height": 286
    },
    "id": "Z5CS1MrxePin",
    "outputId": "2abf0861-c02c-4a5d-8544-4b4a19d11842"
   },
   "outputs": [
    {
     "name": "stdout",
     "output_type": "stream",
     "text": [
      "w is :  [-0.22506809 -0.19858949]\n"
     ]
    },
    {
     "data": {
      "image/png": "[encoded data removed]",
      "text/plain": [
       "<Figure size 432x288 with 1 Axes>"
      ]
     },
     "metadata": {
      "needs_background": "light",
      "tags": []
     },
     "output_type": "display_data"
    }
   ],
   "source": [
    "c = 0.01\n",
    "w_soft = cp.Variable(X_new.shape[1])\n",
    "e_soft = cp.Variable(X_new.shape[0])\n",
    "b_soft = cp.Variable()\n",
    "firstTerm_soft = 0.5*cp.square(cp.norm(w_soft))\n",
    "secondTerm_soft = c*cp.sum(e_soft)\n",
    "constraints_soft = [(y_new[i]*(np.sum(w_soft.T * X_new[i]) + b_soft) - 1 + e_soft[i] ) >= 0 for i in range(X_new.shape[0])]\n",
    "constraints_positive = [e_soft[i] >= 0 for i in range(X_new.shape[0] )]\n",
    "constraints_all = constraints_soft + constraints_positive \n",
    "obj_soft = cp.Minimize(firstTerm_soft + secondTerm_soft)\n",
    "prob_soft = cp.Problem(obj_soft,constraints_all)\n",
    "prob_soft.solve()\n",
    "print(\"w is : \",w_soft.value)\n",
    "plot_points_line(X_new,y_new,w_soft.value,b_soft.value)"
   ]
  },
  {
   "cell_type": "code",
   "execution_count": 58,
   "metadata": {
    "colab": {
     "base_uri": "https://localhost:8080/",
     "height": 282
    },
    "id": "8gQJl_iOgm_c",
    "outputId": "4bedd031-9b16-499f-f6f9-d01696b18e66"
   },
   "outputs": [
    {
     "name": "stdout",
     "output_type": "stream",
     "text": [
      "w is :  [-0.38493724 -0.35146444]\n"
     ]
    },
    {
     "data": {
      "image/png": "[encoded data removed]",
      "text/plain": [
       "<Figure size 432x288 with 1 Axes>"
      ]
     },
     "metadata": {
      "needs_background": "light",
      "tags": []
     },
     "output_type": "display_data"
    }
   ],
   "source": [
    "c = 0.1\n",
    "w_soft = cp.Variable(X_new.shape[1])\n",
    "e_soft = cp.Variable(X_new.shape[0])\n",
    "b_soft = cp.Variable()\n",
    "firstTerm_soft = 0.5*cp.square(cp.norm(w_soft))\n",
    "secondTerm_soft = c*cp.sum(e_soft)\n",
    "constraints_soft = [(y_new[i]*(np.sum(w_soft.T * X_new[i]) + b_soft) -1 + e_soft[i] ) >= 0 for i in range(X_new.shape[0])]\n",
    "constraints_positive = [e_soft[i] >= 0 for i in range(X_new.shape[0] )]\n",
    "constraints_all = constraints_soft + constraints_positive \n",
    "obj_soft = cp.Minimize(firstTerm_soft + secondTerm_soft)\n",
    "prob_soft = cp.Problem(obj_soft,constraints_all)\n",
    "prob_soft.solve()\n",
    "print(\"w is : \",w_soft.value)\n",
    "plot_points_line(X_new,y_new,w_soft.value,b_soft.value)"
   ]
  },
  {
   "cell_type": "code",
   "execution_count": 59,
   "metadata": {
    "colab": {
     "base_uri": "https://localhost:8080/",
     "height": 265
    },
    "id": "RGi95jRegmHL",
    "outputId": "f42006bb-1b4a-4035-882a-f4f43a6319e9"
   },
   "outputs": [
    {
     "data": {
      "image/png": "[encoded data removed]",
      "text/plain": [
       "<Figure size 432x288 with 1 Axes>"
      ]
     },
     "metadata": {
      "needs_background": "light",
      "tags": []
     },
     "output_type": "display_data"
    }
   ],
   "source": [
    "c = 3\n",
    "w_soft = cp.Variable(X_new.shape[1])\n",
    "e_soft = cp.Variable(X_new.shape[0])\n",
    "b_soft = cp.Variable()\n",
    "firstTerm_soft = 0.5*cp.square(cp.norm(w_soft))\n",
    "secondTerm_soft = c*cp.sum(e_soft)\n",
    "constraints_soft = [(y_new[i]*(np.sum(w_soft.T * X_new[i]) + b_soft) -1 + e_soft[i] ) >= 0 for i in range(X_new.shape[0])]\n",
    "constraints_positive = [e_soft[i] >= 0 for i in range(X_new.shape[0] )]\n",
    "constraints_all = constraints_soft + constraints_positive \n",
    "obj_soft = cp.Minimize(firstTerm_soft + secondTerm_soft)\n",
    "prob_soft = cp.Problem(obj_soft,constraints_all)\n",
    "prob_soft.solve()\n",
    "plot_points_line(X_new,y_new,w_soft.value,b_soft.value)"
   ]
  },
  {
   "cell_type": "code",
   "execution_count": 60,
   "metadata": {
    "colab": {
     "base_uri": "https://localhost:8080/",
     "height": 265
    },
    "id": "a1sPiVaiglL1",
    "outputId": "9bed9113-0ee8-4d81-bcb8-1381aaab8f79"
   },
   "outputs": [
    {
     "data": {
      "image/png": "[encoded data removed]",
      "text/plain": [
       "<Figure size 432x288 with 1 Axes>"
      ]
     },
     "metadata": {
      "needs_background": "light",
      "tags": []
     },
     "output_type": "display_data"
    }
   ],
   "source": [
    "c = 10\n",
    "w_soft = cp.Variable(X_new.shape[1])\n",
    "e_soft = cp.Variable(X_new.shape[0])\n",
    "b_soft = cp.Variable()\n",
    "firstTerm_soft = 0.5*cp.square(cp.norm(w_soft)) + c*cp.sum(e_soft)\n",
    "constraints_soft = [(y_new[i]*(np.sum(w_soft.T * X_new[i]) + b_soft) -1 + e_soft[i] ) >= 0 for i in range(X_new.shape[0])]\n",
    "constraints_positive = [e_soft[i] >= 0 for i in range(X_new.shape[0] )]\n",
    "constraints_all = constraints_soft + constraints_positive \n",
    "obj_soft = cp.Minimize(firstTerm_soft)\n",
    "prob_soft = cp.Problem(obj_soft,constraints_all)\n",
    "prob_soft.solve()\n",
    "plot_points_line(X_new,y_new,w_soft.value,b_soft.value)"
   ]
  },
  {
   "cell_type": "code",
   "execution_count": 63,
   "metadata": {
    "colab": {
     "base_uri": "https://localhost:8080/",
     "height": 265
    },
    "id": "auwv7i-VgnyE",
    "outputId": "0abfcb2b-44ae-4b90-d529-ad77cfb36176"
   },
   "outputs": [
    {
     "data": {
      "image/png": "[encoded data removed]",
      "text/plain": [
       "<Figure size 432x288 with 1 Axes>"
      ]
     },
     "metadata": {
      "needs_background": "light",
      "tags": []
     },
     "output_type": "display_data"
    }
   ],
   "source": [
    "c = 100\n",
    "w_soft = cp.Variable(X_new.shape[1])\n",
    "e_soft = cp.Variable(X_new.shape[0])\n",
    "b_soft = cp.Variable()\n",
    "firstTerm_soft = 0.5*cp.square(cp.norm(w_soft))\n",
    "secondTerm_soft = c*cp.sum(e_soft)\n",
    "constraints_soft = [(y_new[i]*(np.sum(w_soft.T * X_new[i]) + b_soft) -1 + e_soft[i] ) >= 0 for i in range(X_new.shape[0])]\n",
    "constraints_positive = [e_soft[i] >= 0 for i in range(X_new.shape[0] )]\n",
    "constraints_all = constraints_soft + constraints_positive \n",
    "obj_soft = cp.Minimize(firstTerm_soft + secondTerm_soft)\n",
    "prob_soft = cp.Problem(obj_soft,constraints_all)\n",
    "prob_soft.solve()\n",
    "plot_points_line(X_new,y_new,w_soft.value,b_soft.value)"
   ]
  },
  {
   "cell_type": "markdown",
   "metadata": {
    "id": "8j8Se_Il3Z_f"
   },
   "source": [
    "Take the case of C = 100 and remove the support vectors. Does the boundary change after the deletion? Explain why? Show your results by appropriate plots?"
   ]
  },
  {
   "cell_type": "code",
   "execution_count": 72,
   "metadata": {
    "id": "QcCJmCtt1Wok"
   },
   "outputs": [],
   "source": [
    "#need to get only support vectors\n",
    "supportVec_removed = []\n",
    "supportVecLabels_removed = []\n",
    "supportVec = []\n",
    "supportVecLabels = []\n",
    "for i in range(X_new.shape[0]):\n",
    "  #print(weights.T)\n",
    "  #print(X[i])\n",
    "  #print(np.sum(weights.T * X[i]))\n",
    "  #print(abs(np.sum(weights.T * X[i]) + b))\n",
    "  if math.isclose(abs(np.sum(w_soft.value.T * X_new[i]) + b_soft.value),1):\n",
    "    supportVec.append(X_new[i])\n",
    "    supportVecLabels.append(y_new[i])\n",
    "  else:\n",
    "    supportVec_removed.append(X_new[i])\n",
    "    supportVecLabels_removed.append(y_new[i])\n",
    "supportVec_removed = np.array(supportVec_removed)\n",
    "supportVecLabels_removed = np.array(supportVecLabels_removed)"
   ]
  },
  {
   "cell_type": "code",
   "execution_count": 75,
   "metadata": {
    "colab": {
     "base_uri": "https://localhost:8080/",
     "height": 265
    },
    "id": "DhY84URA158P",
    "outputId": "ed59b731-acee-45c5-d5ec-8953df889156"
   },
   "outputs": [
    {
     "data": {
      "image/png": "[encoded data removed]",
      "text/plain": [
       "<Figure size 432x288 with 1 Axes>"
      ]
     },
     "metadata": {
      "needs_background": "light",
      "tags": []
     },
     "output_type": "display_data"
    }
   ],
   "source": [
    "c = 100\n",
    "w_soft = cp.Variable(supportVec_removed.shape[1])\n",
    "e_soft = cp.Variable(supportVec_removed.shape[0])\n",
    "b_soft = cp.Variable()\n",
    "firstTerm_soft = 0.5*cp.square(cp.norm(w_soft))\n",
    "secondTerm_soft = c*cp.sum(e_soft)\n",
    "constraints_soft = [(supportVecLabels_removed[i]*(np.sum(w_soft.T * supportVec_removed[i]) + b_soft) -1 + e_soft[i] ) >= 0 for i in range(supportVec_removed.shape[0])]\n",
    "constraints_positive = [e_soft[i] >= 0 for i in range(supportVec_removed.shape[0] )]\n",
    "constraints_all = constraints_soft + constraints_positive \n",
    "obj_soft = cp.Minimize(firstTerm_soft + secondTerm_soft)\n",
    "prob_soft = cp.Problem(obj_soft,constraints_all)\n",
    "prob_soft.solve()\n",
    "plot_points_line(supportVec_removed,supportVecLabels_removed,w_soft.value,b_soft.value)"
   ]
  },
  {
   "cell_type": "markdown",
   "metadata": {
    "id": "QX17YqhK3fXp"
   },
   "source": [
    "As we can see from the above two plots if we remove the support vectors the boundary changes. \n",
    "\n",
    "This is because as we increase c. It becomes similar to hard margin. i.e even one misclassification is hardly penalized.\n",
    "\n",
    "We know the boundary only depends on the support vectors. Because for the other popints the lagrangian multipliers become zero.\n",
    "\n",
    "Hence on changing support vector boundary changes"
   ]
  },
  {
   "cell_type": "markdown",
   "metadata": {
    "id": "uyY4Z4PHA_v3"
   },
   "source": [
    "section 2\n"
   ]
  },
  {
   "cell_type": "code",
   "execution_count": 78,
   "metadata": {
    "colab": {
     "base_uri": "https://localhost:8080/"
    },
    "id": "gKgTfuvQBCsh",
    "outputId": "1332a894-4ac8-461d-83b1-282e9a20bdeb"
   },
   "outputs": [
    {
     "name": "stdout",
     "output_type": "stream",
     "text": [
      "Collecting python-mnist\n",
      "  Downloading https://files.pythonhosted.org/packages/64/f0/6086b84427c3bf156ec0b3c2f9dfc1d770b35f942b9ed8a64f5229776a80/python_mnist-0.7-py2.py3-none-any.whl\n",
      "Installing collected packages: python-mnist\n",
      "Successfully installed python-mnist-0.7\n",
      "--2021-03-11 15:22:04--  http://yann.lecun.com/exdb/mnist/train-images-idx3-ubyte.gz\n",
      "Resolving yann.lecun.com (yann.lecun.com)... 172.67.171.76, 104.21.29.36, 2606:4700:3036::ac43:ab4c, ...\n",
      "Connecting to yann.lecun.com (yann.lecun.com)|172.67.171.76|:80... connected.\n",
      "HTTP request sent, awaiting response... 503 Service Unavailable\n",
      "2021-03-11 15:22:05 ERROR 503: Service Unavailable.\n",
      "\n",
      "gzip: samples/train-images-idx3-ubyte.gz: No such file or directory\n",
      "--2021-03-11 15:22:05--  http://yann.lecun.com/exdb/mnist/train-labels-idx1-ubyte.gz\n",
      "Resolving yann.lecun.com (yann.lecun.com)... 172.67.171.76, 104.21.29.36, 2606:4700:3036::ac43:ab4c, ...\n",
      "Connecting to yann.lecun.com (yann.lecun.com)|172.67.171.76|:80... connected.\n",
      "HTTP request sent, awaiting response... 503 Service Unavailable\n",
      "2021-03-11 15:22:05 ERROR 503: Service Unavailable.\n",
      "\n",
      "gzip: samples/train-labels-idx1-ubyte.gz: No such file or directory\n",
      "--2021-03-11 15:22:06--  http://yann.lecun.com/exdb/mnist/t10k-images-idx3-ubyte.gz\n",
      "Resolving yann.lecun.com (yann.lecun.com)... 172.67.171.76, 104.21.29.36, 2606:4700:3036::ac43:ab4c, ...\n",
      "Connecting to yann.lecun.com (yann.lecun.com)|172.67.171.76|:80... connected.\n",
      "HTTP request sent, awaiting response... 503 Service Unavailable\n",
      "2021-03-11 15:22:06 ERROR 503: Service Unavailable.\n",
      "\n",
      "gzip: samples/t10k-images-idx3-ubyte.gz: No such file or directory\n",
      "--2021-03-11 15:22:06--  http://yann.lecun.com/exdb/mnist/t10k-labels-idx1-ubyte.gz\n",
      "Resolving yann.lecun.com (yann.lecun.com)... 172.67.171.76, 104.21.29.36, 2606:4700:3036::ac43:ab4c, ...\n",
      "Connecting to yann.lecun.com (yann.lecun.com)|172.67.171.76|:80... connected.\n",
      "HTTP request sent, awaiting response... 503 Service Unavailable\n",
      "2021-03-11 15:22:08 ERROR 503: Service Unavailable.\n",
      "\n",
      "gzip: samples/t10k-labels-idx1-ubyte.gz: No such file or directory\n"
     ]
    }
   ],
   "source": [
    "!pip install python-mnist\n",
    "!rm -rf samples\n",
    "!mkdir samples\n",
    "!wget http://yann.lecun.com/exdb/mnist/train-images-idx3-ubyte.gz -P samples/\n",
    "!gunzip samples/train-images-idx3-ubyte.gz\n",
    "!wget http://yann.lecun.com/exdb/mnist/train-labels-idx1-ubyte.gz -P samples/\n",
    "!gunzip samples/train-labels-idx1-ubyte.gz\n",
    "!wget http://yann.lecun.com/exdb/mnist/t10k-images-idx3-ubyte.gz -P samples/\n",
    "!gunzip samples/t10k-images-idx3-ubyte.gz\n",
    "!wget http://yann.lecun.com/exdb/mnist/t10k-labels-idx1-ubyte.gz -P samples/\n",
    "!gunzip samples/t10k-labels-idx1-ubyte.gz"
   ]
  },
  {
   "cell_type": "code",
   "execution_count": 83,
   "metadata": {
    "id": "ayBrI41MBH2Q"
   },
   "outputs": [],
   "source": [
    "# Import Relevant Packages\n",
    "from sklearn.svm import SVC\n",
    "import numpy as np\n",
    "from mnist.loader import MNIST"
   ]
  },
  {
   "cell_type": "code",
   "execution_count": 98,
   "metadata": {
    "colab": {
     "base_uri": "https://localhost:8080/"
    },
    "id": "_arOc57iBJ7c",
    "outputId": "867bca6c-2719-4428-e94c-802ae570089d"
   },
   "outputs": [
    {
     "name": "stdout",
     "output_type": "stream",
     "text": [
      "<class 'list'>\n"
     ]
    }
   ],
   "source": [
    "mndata = MNIST('samples')\n",
    "\n",
    "# Load training dataset\n",
    "images, labels = mndata.load_training()\n",
    "l = len(labels)\n",
    "images_train = np.array(images)\n",
    "labels_train = np.array(labels)\n",
    "\n",
    "indices = [a in [0,1,2] for a in labels_train]\n",
    "sub_images_train = list(images_train[indices])\n",
    "sub_images_train = np.array([np.array(x) for x in sub_images_train])\n",
    "sub_labels_train = labels_train[indices]"
   ]
  },
  {
   "cell_type": "markdown",
   "metadata": {
    "id": "E2diTYJiBdMB"
   },
   "source": [
    "Working only with labels 0,1,2"
   ]
  },
  {
   "cell_type": "code",
   "execution_count": 99,
   "metadata": {
    "colab": {
     "base_uri": "https://localhost:8080/",
     "height": 299
    },
    "id": "wybWge_ODAx9",
    "outputId": "de5d1bf6-608c-465d-9e98-8e26422d33c4"
   },
   "outputs": [
    {
     "name": "stdout",
     "output_type": "stream",
     "text": [
      "label is :  2\n"
     ]
    },
    {
     "data": {
      "text/plain": [
       "<matplotlib.image.AxesImage at 0x7f3675b45290>"
      ]
     },
     "execution_count": 99,
     "metadata": {
      "tags": []
     },
     "output_type": "execute_result"
    },
    {
     "data": {
      "image/png": "[encoded data removed]",
      "text/plain": [
       "<Figure size 432x288 with 1 Axes>"
      ]
     },
     "metadata": {
      "needs_background": "light",
      "tags": []
     },
     "output_type": "display_data"
    }
   ],
   "source": [
    "randomIndex = 10\n",
    "print(\"label is : \",sub_labels_train[randomIndex])\n",
    "plt.imshow(sub_images_train[randomIndex].reshape(28,28))"
   ]
  },
  {
   "cell_type": "code",
   "execution_count": 101,
   "metadata": {
    "id": "BVrA40umBP1e"
   },
   "outputs": [],
   "source": [
    "# Load testing dataset\n",
    "images, labels = mndata.load_testing()\n",
    "l = len(labels)\n",
    "images_test = np.array(images)\n",
    "labels_test = np.array(labels)\n",
    "\n",
    "indices_test = [a in [0,1,2] for a in labels_train]\n",
    "sub_images_test = images_train[indices_test]\n",
    "sub_images_test = np.array([np.array(x) for x in sub_images_test])\n",
    "sub_labels_test = labels_train[indices_test]"
   ]
  },
  {
   "cell_type": "code",
   "execution_count": 103,
   "metadata": {
    "colab": {
     "base_uri": "https://localhost:8080/"
    },
    "id": "02H15Kx27IA8",
    "outputId": "49a08244-7348-49e1-b478-ef58558de529"
   },
   "outputs": [
    {
     "name": "stdout",
     "output_type": "stream",
     "text": [
      "accuracy using linear classifier is :  1.0\n",
      "confusion matrix using linear classifier is \n"
     ]
    },
    {
     "data": {
      "text/plain": [
       "array([[5923,    0,    0],\n",
       "       [   0, 6742,    0],\n",
       "       [   0,    0, 5958]])"
      ]
     },
     "execution_count": 103,
     "metadata": {
      "tags": []
     },
     "output_type": "execute_result"
    }
   ],
   "source": [
    "from sklearn import svm\n",
    "clf = svm.SVC(kernel='linear',C=100000).fit(sub_images_train, sub_labels_train)\n",
    "linear_pred = clf.predict(sub_images_test)\n",
    "print(\"accuracy using linear classifier is : \",clf.score(sub_images_test,sub_labels_test))\n",
    "print(\"confusion matrix using linear classifier is \")\n",
    "confusion_matrix(sub_labels_test, linear_pred)"
   ]
  },
  {
   "cell_type": "code",
   "execution_count": null,
   "metadata": {
    "colab": {
     "base_uri": "https://localhost:8080/"
    },
    "id": "gAoZZz0E7A06",
    "outputId": "09892cf9-01e5-4914-de7a-4631ec8cb597"
   },
   "outputs": [
    {
     "name": "stdout",
     "output_type": "stream",
     "text": [
      "accuracy using polynomial kernel is :  0.9981743005960372\n",
      "confusion matrix using polynomial kernel is \n"
     ]
    },
    {
     "data": {
      "text/plain": [
       "array([[5912,    6,    5],\n",
       "       [   0, 6733,    9],\n",
       "       [   1,   13, 5944]])"
      ]
     },
     "execution_count": 40,
     "metadata": {
      "tags": []
     },
     "output_type": "execute_result"
    }
   ],
   "source": [
    "poly = svm.SVC(kernel='poly', degree=3, C=1).fit(sub_images_train, sub_labels_train)\n",
    "poly_pred = poly.predict(sub_images_test)\n",
    "print(\"accuracy using polynomial kernel is : \",poly.score(sub_images_test,sub_labels_test))\n",
    "print(\"confusion matrix using polynomial kernel is \")\n",
    "confusion_matrix(sub_labels_test, poly_pred)"
   ]
  },
  {
   "cell_type": "code",
   "execution_count": 104,
   "metadata": {
    "colab": {
     "base_uri": "https://localhost:8080/"
    },
    "id": "QAM9YnYo4PS7",
    "outputId": "ff2a1b63-5433-4a49-fb49-2346aacbd003"
   },
   "outputs": [
    {
     "name": "stdout",
     "output_type": "stream",
     "text": [
      "accuracy using polynomial kernel is :  0.9873274982548461\n",
      "confusion matrix using polynomial kernel is \n"
     ]
    },
    {
     "data": {
      "text/plain": [
       "array([[5858,   64,    1],\n",
       "       [   0, 6739,    3],\n",
       "       [   0,  168, 5790]])"
      ]
     },
     "execution_count": 104,
     "metadata": {
      "tags": []
     },
     "output_type": "execute_result"
    }
   ],
   "source": [
    "poly = svm.SVC(kernel='poly', degree=5, C=1).fit(sub_images_train, sub_labels_train)\n",
    "poly_pred = poly.predict(sub_images_test)\n",
    "print(\"accuracy using polynomial kernel is : \",poly.score(sub_images_test,sub_labels_test))\n",
    "print(\"confusion matrix using polynomial kernel is \")\n",
    "confusion_matrix(sub_labels_test, poly_pred)"
   ]
  },
  {
   "cell_type": "code",
   "execution_count": null,
   "metadata": {
    "colab": {
     "base_uri": "https://localhost:8080/"
    },
    "id": "IG3kxMGoETud",
    "outputId": "73269049-7130-4bb6-edfd-10e79aacd155"
   },
   "outputs": [
    {
     "name": "stdout",
     "output_type": "stream",
     "text": [
      "accuracy using sig is :  0.9438328948074961\n",
      "confusion matrix using sigmoid kernel is \n"
     ]
    },
    {
     "data": {
      "text/plain": [
       "array([[5604,   11,  308],\n",
       "       [  12, 6538,  192],\n",
       "       [ 315,  208, 5435]])"
      ]
     },
     "execution_count": 38,
     "metadata": {
      "tags": []
     },
     "output_type": "execute_result"
    }
   ],
   "source": [
    "sig = svm.SVC(kernel='sigmoid', C=1).fit(sub_images_train, sub_labels_train)\n",
    "sig_pred = sig.predict(sub_images_test)\n",
    "print(\"accuracy using sig is : \",sig.score(sub_images_test,sub_labels_test))\n",
    "print(\"confusion matrix using sigmoid kernel is \")\n",
    "confusion_matrix(sub_labels_test, sig_pred)"
   ]
  }
 ],
 "metadata": {
  "colab": {
   "name": "q4.ipynb",
   "provenance": [],
   "toc_visible": true
  },
  "kernelspec": {
   "display_name": "Python 3",
   "language": "python",
   "name": "python3"
  },
  "language_info": {
   "codemirror_mode": {
    "name": "ipython",
    "version": 3
   },
   "file_extension": ".py",
   "mimetype": "text/x-python",
   "name": "python",
   "nbconvert_exporter": "python",
   "pygments_lexer": "ipython3",
   "version": "3.7.0"
  }
 },
 "nbformat": 4,
 "nbformat_minor": 1
}
